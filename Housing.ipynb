{
  "cells": [
    {
      "cell_type": "markdown",
      "metadata": {
        "id": "view-in-github",
        "colab_type": "text"
      },
      "source": [
        "<a href=\"https://colab.research.google.com/github/EricChege101/EricChege101/blob/main/Housing.ipynb\" target=\"_parent\"><img src=\"https://colab.research.google.com/assets/colab-badge.svg\" alt=\"Open In Colab\"/></a>"
      ]
    },
    {
      "cell_type": "markdown",
      "id": "f93e704f",
      "metadata": {
        "id": "f93e704f"
      },
      "source": [
        "### COLLINS ABWAO\n",
        "### CIT-223-034/2018\n",
        "### LEARNING AND ADAPTIVE SYSTEM\n",
        "### NEURAL NETWORK IMPLEMENTATION"
      ]
    },
    {
      "cell_type": "markdown",
      "id": "e929b494",
      "metadata": {
        "id": "e929b494"
      },
      "source": [
        "## Introduction\n",
        "The notebook illustrates implementation of a regression problem using neural network to predict cost of housing given some features for example Number of rooms."
      ]
    },
    {
      "cell_type": "markdown",
      "id": "9f5248af",
      "metadata": {
        "id": "9f5248af"
      },
      "source": [
        "## Importation of libraries and modules"
      ]
    },
    {
      "cell_type": "code",
      "execution_count": null,
      "id": "d1621cd8",
      "metadata": {
        "id": "d1621cd8"
      },
      "outputs": [],
      "source": [
        "import tensorflow as tf\n",
        "import pandas as pd\n",
        "import numpy as np\n",
        "import matplotlib.pyplot as plt\n",
        "from sklearn import datasets \n",
        "from sklearn.model_selection import train_test_split\n",
        "from sklearn.metrics import r2_score \n",
        "import keras\n",
        "from keras.layers import Dense, Activation,Dropout\n",
        "from keras.models import Sequential\n",
        "import warnings\n",
        "warnings.filterwarnings('ignore')"
      ]
    },
    {
      "cell_type": "markdown",
      "id": "96768cf3",
      "metadata": {
        "id": "96768cf3"
      },
      "source": [
        "## Loading dataset from sklearn datatsets"
      ]
    },
    {
      "cell_type": "code",
      "execution_count": null,
      "id": "c19802c3",
      "metadata": {
        "id": "c19802c3"
      },
      "outputs": [],
      "source": [
        "boston_housing = datasets.load_boston()"
      ]
    },
    {
      "cell_type": "markdown",
      "id": "bd0bbd9e",
      "metadata": {
        "id": "bd0bbd9e"
      },
      "source": [
        "## Obtaining labels and features"
      ]
    },
    {
      "cell_type": "code",
      "execution_count": null,
      "id": "ae502fc1",
      "metadata": {
        "id": "ae502fc1"
      },
      "outputs": [],
      "source": [
        "x,y = boston_housing.data,boston_housing.target "
      ]
    },
    {
      "cell_type": "code",
      "execution_count": null,
      "id": "625a299b",
      "metadata": {
        "id": "625a299b",
        "outputId": "5bb36be8-8ceb-4332-c284-6f2fe980deee"
      },
      "outputs": [
        {
          "data": {
            "text/plain": [
              "(506, 13)"
            ]
          },
          "execution_count": 13,
          "metadata": {},
          "output_type": "execute_result"
        }
      ],
      "source": [
        "x.shape"
      ]
    },
    {
      "cell_type": "code",
      "execution_count": null,
      "id": "2886621f",
      "metadata": {
        "id": "2886621f",
        "outputId": "e6ed7325-b30d-464e-cac2-9eddbeac357d"
      },
      "outputs": [
        {
          "data": {
            "text/plain": [
              "(506,)"
            ]
          },
          "execution_count": 14,
          "metadata": {},
          "output_type": "execute_result"
        }
      ],
      "source": [
        "y.shape"
      ]
    },
    {
      "cell_type": "markdown",
      "id": "b0e098d8",
      "metadata": {
        "id": "b0e098d8"
      },
      "source": [
        "## Splitting the dataset into training and testing"
      ]
    },
    {
      "cell_type": "code",
      "execution_count": null,
      "id": "bc0bc7da",
      "metadata": {
        "id": "bc0bc7da"
      },
      "outputs": [],
      "source": [
        "x_train,x_test,y_train,y_test = train_test_split(x,y,test_size=0.2)"
      ]
    },
    {
      "cell_type": "code",
      "execution_count": null,
      "id": "9907cd3b",
      "metadata": {
        "id": "9907cd3b",
        "outputId": "2db422f4-8981-4f4b-e1cf-d8e26239cd96"
      },
      "outputs": [
        {
          "data": {
            "text/plain": [
              "((404, 13), (102, 13))"
            ]
          },
          "execution_count": 16,
          "metadata": {},
          "output_type": "execute_result"
        }
      ],
      "source": [
        "x_train.shape,x_test.shape"
      ]
    },
    {
      "cell_type": "code",
      "execution_count": null,
      "id": "0eb0375e",
      "metadata": {
        "id": "0eb0375e",
        "outputId": "1d34c261-811a-4fe6-fb0b-4eb37197ae85"
      },
      "outputs": [
        {
          "data": {
            "text/plain": [
              "13"
            ]
          },
          "execution_count": 33,
          "metadata": {},
          "output_type": "execute_result"
        }
      ],
      "source": [
        "#Obtaining number of feature\n",
        "len(boston_housing.feature_names)"
      ]
    },
    {
      "cell_type": "markdown",
      "id": "754be921",
      "metadata": {
        "id": "754be921"
      },
      "source": [
        "## Features in dataframe"
      ]
    },
    {
      "cell_type": "code",
      "execution_count": null,
      "id": "6e1e9a2e",
      "metadata": {
        "scrolled": true,
        "id": "6e1e9a2e",
        "outputId": "a7cc9155-e12f-475c-85b1-b3a4cf5ca8c1"
      },
      "outputs": [
        {
          "data": {
            "text/html": [
              "<div>\n",
              "<style scoped>\n",
              "    .dataframe tbody tr th:only-of-type {\n",
              "        vertical-align: middle;\n",
              "    }\n",
              "\n",
              "    .dataframe tbody tr th {\n",
              "        vertical-align: top;\n",
              "    }\n",
              "\n",
              "    .dataframe thead th {\n",
              "        text-align: right;\n",
              "    }\n",
              "</style>\n",
              "<table border=\"1\" class=\"dataframe\">\n",
              "  <thead>\n",
              "    <tr style=\"text-align: right;\">\n",
              "      <th></th>\n",
              "      <th>CRIM</th>\n",
              "      <th>ZN</th>\n",
              "      <th>INDUS</th>\n",
              "      <th>CHAS</th>\n",
              "      <th>NOX</th>\n",
              "      <th>RM</th>\n",
              "      <th>AGE</th>\n",
              "      <th>DIS</th>\n",
              "      <th>RAD</th>\n",
              "      <th>TAX</th>\n",
              "      <th>PTRATIO</th>\n",
              "      <th>B</th>\n",
              "      <th>LSTAT</th>\n",
              "    </tr>\n",
              "  </thead>\n",
              "  <tbody>\n",
              "    <tr>\n",
              "      <th>0</th>\n",
              "      <td>0.10290</td>\n",
              "      <td>30.0</td>\n",
              "      <td>4.93</td>\n",
              "      <td>0.0</td>\n",
              "      <td>0.428</td>\n",
              "      <td>6.358</td>\n",
              "      <td>52.9</td>\n",
              "      <td>7.0355</td>\n",
              "      <td>6.0</td>\n",
              "      <td>300.0</td>\n",
              "      <td>16.6</td>\n",
              "      <td>372.75</td>\n",
              "      <td>11.22</td>\n",
              "    </tr>\n",
              "    <tr>\n",
              "      <th>1</th>\n",
              "      <td>15.87440</td>\n",
              "      <td>0.0</td>\n",
              "      <td>18.10</td>\n",
              "      <td>0.0</td>\n",
              "      <td>0.671</td>\n",
              "      <td>6.545</td>\n",
              "      <td>99.1</td>\n",
              "      <td>1.5192</td>\n",
              "      <td>24.0</td>\n",
              "      <td>666.0</td>\n",
              "      <td>20.2</td>\n",
              "      <td>396.90</td>\n",
              "      <td>21.08</td>\n",
              "    </tr>\n",
              "    <tr>\n",
              "      <th>2</th>\n",
              "      <td>73.53410</td>\n",
              "      <td>0.0</td>\n",
              "      <td>18.10</td>\n",
              "      <td>0.0</td>\n",
              "      <td>0.679</td>\n",
              "      <td>5.957</td>\n",
              "      <td>100.0</td>\n",
              "      <td>1.8026</td>\n",
              "      <td>24.0</td>\n",
              "      <td>666.0</td>\n",
              "      <td>20.2</td>\n",
              "      <td>16.45</td>\n",
              "      <td>20.62</td>\n",
              "    </tr>\n",
              "    <tr>\n",
              "      <th>3</th>\n",
              "      <td>0.43571</td>\n",
              "      <td>0.0</td>\n",
              "      <td>10.59</td>\n",
              "      <td>1.0</td>\n",
              "      <td>0.489</td>\n",
              "      <td>5.344</td>\n",
              "      <td>100.0</td>\n",
              "      <td>3.8750</td>\n",
              "      <td>4.0</td>\n",
              "      <td>277.0</td>\n",
              "      <td>18.6</td>\n",
              "      <td>396.90</td>\n",
              "      <td>23.09</td>\n",
              "    </tr>\n",
              "    <tr>\n",
              "      <th>4</th>\n",
              "      <td>0.79041</td>\n",
              "      <td>0.0</td>\n",
              "      <td>9.90</td>\n",
              "      <td>0.0</td>\n",
              "      <td>0.544</td>\n",
              "      <td>6.122</td>\n",
              "      <td>52.8</td>\n",
              "      <td>2.6403</td>\n",
              "      <td>4.0</td>\n",
              "      <td>304.0</td>\n",
              "      <td>18.4</td>\n",
              "      <td>396.90</td>\n",
              "      <td>5.98</td>\n",
              "    </tr>\n",
              "    <tr>\n",
              "      <th>5</th>\n",
              "      <td>0.01432</td>\n",
              "      <td>100.0</td>\n",
              "      <td>1.32</td>\n",
              "      <td>0.0</td>\n",
              "      <td>0.411</td>\n",
              "      <td>6.816</td>\n",
              "      <td>40.5</td>\n",
              "      <td>8.3248</td>\n",
              "      <td>5.0</td>\n",
              "      <td>256.0</td>\n",
              "      <td>15.1</td>\n",
              "      <td>392.90</td>\n",
              "      <td>3.95</td>\n",
              "    </tr>\n",
              "    <tr>\n",
              "      <th>6</th>\n",
              "      <td>0.28955</td>\n",
              "      <td>0.0</td>\n",
              "      <td>10.59</td>\n",
              "      <td>0.0</td>\n",
              "      <td>0.489</td>\n",
              "      <td>5.412</td>\n",
              "      <td>9.8</td>\n",
              "      <td>3.5875</td>\n",
              "      <td>4.0</td>\n",
              "      <td>277.0</td>\n",
              "      <td>18.6</td>\n",
              "      <td>348.93</td>\n",
              "      <td>29.55</td>\n",
              "    </tr>\n",
              "    <tr>\n",
              "      <th>7</th>\n",
              "      <td>0.12757</td>\n",
              "      <td>30.0</td>\n",
              "      <td>4.93</td>\n",
              "      <td>0.0</td>\n",
              "      <td>0.428</td>\n",
              "      <td>6.393</td>\n",
              "      <td>7.8</td>\n",
              "      <td>7.0355</td>\n",
              "      <td>6.0</td>\n",
              "      <td>300.0</td>\n",
              "      <td>16.6</td>\n",
              "      <td>374.71</td>\n",
              "      <td>5.19</td>\n",
              "    </tr>\n",
              "    <tr>\n",
              "      <th>8</th>\n",
              "      <td>1.42502</td>\n",
              "      <td>0.0</td>\n",
              "      <td>19.58</td>\n",
              "      <td>0.0</td>\n",
              "      <td>0.871</td>\n",
              "      <td>6.510</td>\n",
              "      <td>100.0</td>\n",
              "      <td>1.7659</td>\n",
              "      <td>5.0</td>\n",
              "      <td>403.0</td>\n",
              "      <td>14.7</td>\n",
              "      <td>364.31</td>\n",
              "      <td>7.39</td>\n",
              "    </tr>\n",
              "    <tr>\n",
              "      <th>9</th>\n",
              "      <td>0.07013</td>\n",
              "      <td>0.0</td>\n",
              "      <td>13.89</td>\n",
              "      <td>0.0</td>\n",
              "      <td>0.550</td>\n",
              "      <td>6.642</td>\n",
              "      <td>85.1</td>\n",
              "      <td>3.4211</td>\n",
              "      <td>5.0</td>\n",
              "      <td>276.0</td>\n",
              "      <td>16.4</td>\n",
              "      <td>392.78</td>\n",
              "      <td>9.69</td>\n",
              "    </tr>\n",
              "  </tbody>\n",
              "</table>\n",
              "</div>"
            ],
            "text/plain": [
              "       CRIM     ZN  INDUS  CHAS    NOX     RM    AGE     DIS   RAD    TAX  \\\n",
              "0   0.10290   30.0   4.93   0.0  0.428  6.358   52.9  7.0355   6.0  300.0   \n",
              "1  15.87440    0.0  18.10   0.0  0.671  6.545   99.1  1.5192  24.0  666.0   \n",
              "2  73.53410    0.0  18.10   0.0  0.679  5.957  100.0  1.8026  24.0  666.0   \n",
              "3   0.43571    0.0  10.59   1.0  0.489  5.344  100.0  3.8750   4.0  277.0   \n",
              "4   0.79041    0.0   9.90   0.0  0.544  6.122   52.8  2.6403   4.0  304.0   \n",
              "5   0.01432  100.0   1.32   0.0  0.411  6.816   40.5  8.3248   5.0  256.0   \n",
              "6   0.28955    0.0  10.59   0.0  0.489  5.412    9.8  3.5875   4.0  277.0   \n",
              "7   0.12757   30.0   4.93   0.0  0.428  6.393    7.8  7.0355   6.0  300.0   \n",
              "8   1.42502    0.0  19.58   0.0  0.871  6.510  100.0  1.7659   5.0  403.0   \n",
              "9   0.07013    0.0  13.89   0.0  0.550  6.642   85.1  3.4211   5.0  276.0   \n",
              "\n",
              "   PTRATIO       B  LSTAT  \n",
              "0     16.6  372.75  11.22  \n",
              "1     20.2  396.90  21.08  \n",
              "2     20.2   16.45  20.62  \n",
              "3     18.6  396.90  23.09  \n",
              "4     18.4  396.90   5.98  \n",
              "5     15.1  392.90   3.95  \n",
              "6     18.6  348.93  29.55  \n",
              "7     16.6  374.71   5.19  \n",
              "8     14.7  364.31   7.39  \n",
              "9     16.4  392.78   9.69  "
            ]
          },
          "execution_count": 23,
          "metadata": {},
          "output_type": "execute_result"
        }
      ],
      "source": [
        "boston_data_x = pd.DataFrame(x_train, columns=boston_housing.feature_names)\n",
        "boston_data_x.head(10)"
      ]
    },
    {
      "cell_type": "markdown",
      "id": "f2c01cc9",
      "metadata": {
        "id": "f2c01cc9"
      },
      "source": [
        "## Label in Dataframe"
      ]
    },
    {
      "cell_type": "code",
      "execution_count": null,
      "id": "bbd6bed6",
      "metadata": {
        "id": "bbd6bed6",
        "outputId": "8617e8ed-e2c7-4561-ab55-0882e7f56663"
      },
      "outputs": [
        {
          "data": {
            "text/html": [
              "<div>\n",
              "<style scoped>\n",
              "    .dataframe tbody tr th:only-of-type {\n",
              "        vertical-align: middle;\n",
              "    }\n",
              "\n",
              "    .dataframe tbody tr th {\n",
              "        vertical-align: top;\n",
              "    }\n",
              "\n",
              "    .dataframe thead th {\n",
              "        text-align: right;\n",
              "    }\n",
              "</style>\n",
              "<table border=\"1\" class=\"dataframe\">\n",
              "  <thead>\n",
              "    <tr style=\"text-align: right;\">\n",
              "      <th></th>\n",
              "      <th>PRICE</th>\n",
              "    </tr>\n",
              "  </thead>\n",
              "  <tbody>\n",
              "    <tr>\n",
              "      <th>0</th>\n",
              "      <td>22.2</td>\n",
              "    </tr>\n",
              "    <tr>\n",
              "      <th>1</th>\n",
              "      <td>10.9</td>\n",
              "    </tr>\n",
              "    <tr>\n",
              "      <th>2</th>\n",
              "      <td>8.8</td>\n",
              "    </tr>\n",
              "    <tr>\n",
              "      <th>3</th>\n",
              "      <td>20.0</td>\n",
              "    </tr>\n",
              "    <tr>\n",
              "      <th>4</th>\n",
              "      <td>22.1</td>\n",
              "    </tr>\n",
              "    <tr>\n",
              "      <th>5</th>\n",
              "      <td>31.6</td>\n",
              "    </tr>\n",
              "    <tr>\n",
              "      <th>6</th>\n",
              "      <td>23.7</td>\n",
              "    </tr>\n",
              "    <tr>\n",
              "      <th>7</th>\n",
              "      <td>23.7</td>\n",
              "    </tr>\n",
              "    <tr>\n",
              "      <th>8</th>\n",
              "      <td>23.3</td>\n",
              "    </tr>\n",
              "    <tr>\n",
              "      <th>9</th>\n",
              "      <td>28.7</td>\n",
              "    </tr>\n",
              "  </tbody>\n",
              "</table>\n",
              "</div>"
            ],
            "text/plain": [
              "   PRICE\n",
              "0   22.2\n",
              "1   10.9\n",
              "2    8.8\n",
              "3   20.0\n",
              "4   22.1\n",
              "5   31.6\n",
              "6   23.7\n",
              "7   23.7\n",
              "8   23.3\n",
              "9   28.7"
            ]
          },
          "execution_count": 29,
          "metadata": {},
          "output_type": "execute_result"
        }
      ],
      "source": [
        "boston_data_y = pd.DataFrame(y_train,columns=['PRICE'])\n",
        "boston_data_y.head(10)"
      ]
    },
    {
      "cell_type": "code",
      "execution_count": null,
      "id": "47519129",
      "metadata": {
        "id": "47519129",
        "outputId": "3e316f40-70b2-42a0-d8d9-1a2092cd831e"
      },
      "outputs": [
        {
          "data": {
            "text/plain": [
              "dict_keys(['data', 'target', 'feature_names', 'DESCR', 'filename', 'data_module'])"
            ]
          },
          "execution_count": 25,
          "metadata": {},
          "output_type": "execute_result"
        }
      ],
      "source": [
        "boston_housing.keys()"
      ]
    },
    {
      "cell_type": "markdown",
      "id": "c9a7f18c",
      "metadata": {
        "id": "c9a7f18c"
      },
      "source": [
        "## Neural Network"
      ]
    },
    {
      "cell_type": "markdown",
      "id": "70f6e413",
      "metadata": {
        "id": "70f6e413"
      },
      "source": [
        "### Type of model. \n",
        "The model created was a simple sequential neural network model\n",
        "### Layers\n",
        "The neural network model is composed of input, hidden and output layer. The model below consists of 5 densely connected layers added to the sequential model. First layer had 128 neurons, second 64, third 32, Fourth 16 and fifth 1.\n",
        "#### Input Layer\n",
        "It accepts the features from the outside world. There is no computation at the input layer. The neurons or nodes therefore pass features to the hidden layer. The model took 13 features as the input dimension\n",
        "#### Hidden Layer\n",
        "This is where various computation takes place and results are passed to the output layer. \n",
        "#### Output Layer\n",
        "The layer brings out the information learned to the outside world.\n",
        "### Activation Functions\n",
        "They often decide whether a neuron is to be activated or not.They add non-linearity to the output of the neuron\n",
        "For model creation Rectified Liniear Unit (relu) was used. It is applied after the dot matrix of input features and weights plus the biases. It gives an output of positive numbers otherwise zero if the output was to be a negative i.e max(0,i). The output layer does not have an activation since this is a regression problem.\n",
        "### Model Compilation\n",
        "This is the final step of model creation, the solver or optimizer used to create the model is Adam. It works by adjusting weights and biases based on training data.\n",
        "Loss was calculated using mean squared error.\n"
      ]
    },
    {
      "cell_type": "code",
      "execution_count": null,
      "id": "b02bcb1e",
      "metadata": {
        "id": "b02bcb1e"
      },
      "outputs": [],
      "source": [
        "#Model creation\n",
        "model = Sequential()\n",
        "\n",
        "model.add(Dense(128,activation  = 'relu',input_dim =len(boston_housing.feature_names)))\n",
        "\n",
        "model.add(Dense(64,activation  = 'relu'))\n",
        "model.add(Dense(32,activation  = 'relu'))\n",
        "model.add(Dense(16,activation  = 'relu'))\n",
        "\n",
        "model.add(Dense(1))\n",
        "\n",
        "#Model Compilation\n",
        "model.compile(\n",
        "    optimizer= 'adam',\n",
        "    loss = 'mean_squared_error'\n",
        ")"
      ]
    },
    {
      "cell_type": "markdown",
      "id": "545948a2",
      "metadata": {
        "id": "545948a2"
      },
      "source": [
        "## Model training"
      ]
    },
    {
      "cell_type": "code",
      "execution_count": null,
      "id": "8bdb8ec3",
      "metadata": {
        "id": "8bdb8ec3",
        "outputId": "c5702307-8169-4ec2-92cb-e1a782986303"
      },
      "outputs": [
        {
          "name": "stdout",
          "output_type": "stream",
          "text": [
            "Epoch 1/250\n",
            "13/13 [==============================] - 0s 2ms/step - loss: 2184.3059\n",
            "Epoch 2/250\n",
            "13/13 [==============================] - 0s 2ms/step - loss: 111.6911\n",
            "Epoch 3/250\n",
            "13/13 [==============================] - 0s 2ms/step - loss: 88.3244\n",
            "Epoch 4/250\n",
            "13/13 [==============================] - 0s 2ms/step - loss: 79.5585\n",
            "Epoch 5/250\n",
            "13/13 [==============================] - 0s 2ms/step - loss: 75.0310\n",
            "Epoch 6/250\n",
            "13/13 [==============================] - 0s 2ms/step - loss: 72.0595\n",
            "Epoch 7/250\n",
            "13/13 [==============================] - 0s 2ms/step - loss: 71.2680\n",
            "Epoch 8/250\n",
            "13/13 [==============================] - 0s 2ms/step - loss: 71.2275\n",
            "Epoch 9/250\n",
            "13/13 [==============================] - 0s 2ms/step - loss: 70.2425\n",
            "Epoch 10/250\n",
            "13/13 [==============================] - 0s 2ms/step - loss: 68.6372\n",
            "Epoch 11/250\n",
            "13/13 [==============================] - 0s 2ms/step - loss: 68.3556\n",
            "Epoch 12/250\n",
            "13/13 [==============================] - 0s 2ms/step - loss: 67.6323\n",
            "Epoch 13/250\n",
            "13/13 [==============================] - 0s 2ms/step - loss: 68.7026\n",
            "Epoch 14/250\n",
            "13/13 [==============================] - 0s 2ms/step - loss: 65.8347\n",
            "Epoch 15/250\n",
            "13/13 [==============================] - 0s 2ms/step - loss: 66.1593\n",
            "Epoch 16/250\n",
            "13/13 [==============================] - 0s 2ms/step - loss: 64.8866\n",
            "Epoch 17/250\n",
            "13/13 [==============================] - 0s 2ms/step - loss: 63.5777\n",
            "Epoch 18/250\n",
            "13/13 [==============================] - 0s 2ms/step - loss: 62.6242\n",
            "Epoch 19/250\n",
            "13/13 [==============================] - 0s 2ms/step - loss: 62.0663\n",
            "Epoch 20/250\n",
            "13/13 [==============================] - 0s 2ms/step - loss: 61.8338\n",
            "Epoch 21/250\n",
            "13/13 [==============================] - 0s 2ms/step - loss: 61.9202\n",
            "Epoch 22/250\n",
            "13/13 [==============================] - 0s 2ms/step - loss: 59.8299\n",
            "Epoch 23/250\n",
            "13/13 [==============================] - 0s 2ms/step - loss: 59.2403\n",
            "Epoch 24/250\n",
            "13/13 [==============================] - 0s 2ms/step - loss: 58.1379\n",
            "Epoch 25/250\n",
            "13/13 [==============================] - 0s 2ms/step - loss: 61.0828\n",
            "Epoch 26/250\n",
            "13/13 [==============================] - 0s 2ms/step - loss: 57.3037\n",
            "Epoch 27/250\n",
            "13/13 [==============================] - 0s 2ms/step - loss: 57.0113\n",
            "Epoch 28/250\n",
            "13/13 [==============================] - 0s 2ms/step - loss: 55.8860\n",
            "Epoch 29/250\n",
            "13/13 [==============================] - 0s 2ms/step - loss: 55.7584\n",
            "Epoch 30/250\n",
            "13/13 [==============================] - 0s 2ms/step - loss: 54.2831\n",
            "Epoch 31/250\n",
            "13/13 [==============================] - 0s 2ms/step - loss: 53.3928\n",
            "Epoch 32/250\n",
            "13/13 [==============================] - 0s 2ms/step - loss: 53.2447\n",
            "Epoch 33/250\n",
            "13/13 [==============================] - 0s 2ms/step - loss: 51.9428\n",
            "Epoch 34/250\n",
            "13/13 [==============================] - 0s 2ms/step - loss: 50.4189\n",
            "Epoch 35/250\n",
            "13/13 [==============================] - 0s 2ms/step - loss: 49.1946\n",
            "Epoch 36/250\n",
            "13/13 [==============================] - 0s 2ms/step - loss: 48.4725\n",
            "Epoch 37/250\n",
            "13/13 [==============================] - 0s 2ms/step - loss: 47.3852\n",
            "Epoch 38/250\n",
            "13/13 [==============================] - 0s 2ms/step - loss: 47.3474\n",
            "Epoch 39/250\n",
            "13/13 [==============================] - 0s 2ms/step - loss: 46.3487\n",
            "Epoch 40/250\n",
            "13/13 [==============================] - 0s 2ms/step - loss: 44.4558\n",
            "Epoch 41/250\n",
            "13/13 [==============================] - 0s 2ms/step - loss: 45.8415\n",
            "Epoch 42/250\n",
            "13/13 [==============================] - 0s 2ms/step - loss: 43.9257\n",
            "Epoch 43/250\n",
            "13/13 [==============================] - 0s 2ms/step - loss: 42.4549\n",
            "Epoch 44/250\n",
            "13/13 [==============================] - 0s 2ms/step - loss: 45.5902\n",
            "Epoch 45/250\n",
            "13/13 [==============================] - 0s 2ms/step - loss: 43.9680\n",
            "Epoch 46/250\n",
            "13/13 [==============================] - 0s 2ms/step - loss: 40.3044\n",
            "Epoch 47/250\n",
            "13/13 [==============================] - 0s 2ms/step - loss: 40.0190\n",
            "Epoch 48/250\n",
            "13/13 [==============================] - 0s 2ms/step - loss: 38.5975\n",
            "Epoch 49/250\n",
            "13/13 [==============================] - 0s 1ms/step - loss: 38.0936\n",
            "Epoch 50/250\n",
            "13/13 [==============================] - 0s 2ms/step - loss: 37.2381\n",
            "Epoch 51/250\n",
            "13/13 [==============================] - 0s 2ms/step - loss: 37.1025\n",
            "Epoch 52/250\n",
            "13/13 [==============================] - 0s 2ms/step - loss: 35.4577\n",
            "Epoch 53/250\n",
            "13/13 [==============================] - 0s 2ms/step - loss: 37.1484\n",
            "Epoch 54/250\n",
            "13/13 [==============================] - 0s 2ms/step - loss: 36.6859\n",
            "Epoch 55/250\n",
            "13/13 [==============================] - 0s 2ms/step - loss: 37.4956\n",
            "Epoch 56/250\n",
            "13/13 [==============================] - 0s 2ms/step - loss: 33.5256\n",
            "Epoch 57/250\n",
            "13/13 [==============================] - 0s 1ms/step - loss: 31.8297\n",
            "Epoch 58/250\n",
            "13/13 [==============================] - 0s 2ms/step - loss: 33.4249\n",
            "Epoch 59/250\n",
            "13/13 [==============================] - 0s 1ms/step - loss: 31.3689\n",
            "Epoch 60/250\n",
            "13/13 [==============================] - 0s 2ms/step - loss: 31.3654\n",
            "Epoch 61/250\n",
            "13/13 [==============================] - 0s 2ms/step - loss: 32.6349\n",
            "Epoch 62/250\n",
            "13/13 [==============================] - 0s 2ms/step - loss: 32.0286\n",
            "Epoch 63/250\n",
            "13/13 [==============================] - 0s 2ms/step - loss: 30.6436\n",
            "Epoch 64/250\n",
            "13/13 [==============================] - 0s 1ms/step - loss: 29.9069\n",
            "Epoch 65/250\n",
            "13/13 [==============================] - 0s 2ms/step - loss: 31.1763\n",
            "Epoch 66/250\n",
            "13/13 [==============================] - 0s 2ms/step - loss: 29.4118\n",
            "Epoch 67/250\n",
            "13/13 [==============================] - 0s 2ms/step - loss: 29.4111\n",
            "Epoch 68/250\n",
            "13/13 [==============================] - 0s 1ms/step - loss: 27.2917\n",
            "Epoch 69/250\n",
            "13/13 [==============================] - 0s 1ms/step - loss: 29.7465\n",
            "Epoch 70/250\n",
            "13/13 [==============================] - 0s 1ms/step - loss: 27.6606\n",
            "Epoch 71/250\n",
            "13/13 [==============================] - 0s 1ms/step - loss: 26.8158\n",
            "Epoch 72/250\n",
            "13/13 [==============================] - 0s 2ms/step - loss: 26.7533\n",
            "Epoch 73/250\n",
            "13/13 [==============================] - 0s 2ms/step - loss: 26.0093\n",
            "Epoch 74/250\n",
            "13/13 [==============================] - 0s 2ms/step - loss: 28.2658\n",
            "Epoch 75/250\n",
            "13/13 [==============================] - 0s 2ms/step - loss: 26.9447\n",
            "Epoch 76/250\n",
            "13/13 [==============================] - 0s 2ms/step - loss: 25.0073\n",
            "Epoch 77/250\n",
            "13/13 [==============================] - 0s 1ms/step - loss: 26.4109\n",
            "Epoch 78/250\n",
            "13/13 [==============================] - 0s 2ms/step - loss: 28.0922\n",
            "Epoch 79/250\n",
            "13/13 [==============================] - 0s 1ms/step - loss: 26.8800\n",
            "Epoch 80/250\n",
            "13/13 [==============================] - 0s 2ms/step - loss: 29.2489\n",
            "Epoch 81/250\n",
            "13/13 [==============================] - 0s 2ms/step - loss: 28.1258\n",
            "Epoch 82/250\n",
            "13/13 [==============================] - 0s 2ms/step - loss: 26.1265\n",
            "Epoch 83/250\n",
            "13/13 [==============================] - 0s 2ms/step - loss: 23.5159\n",
            "Epoch 84/250\n",
            "13/13 [==============================] - 0s 2ms/step - loss: 25.0024\n",
            "Epoch 85/250\n",
            "13/13 [==============================] - 0s 2ms/step - loss: 23.6673\n",
            "Epoch 86/250\n",
            "13/13 [==============================] - 0s 1ms/step - loss: 26.4867\n",
            "Epoch 87/250\n",
            "13/13 [==============================] - 0s 2ms/step - loss: 24.4251\n",
            "Epoch 88/250\n",
            "13/13 [==============================] - 0s 2ms/step - loss: 29.1192\n",
            "Epoch 89/250\n",
            "13/13 [==============================] - 0s 2ms/step - loss: 24.3449\n",
            "Epoch 90/250\n",
            "13/13 [==============================] - 0s 2ms/step - loss: 22.3914\n",
            "Epoch 91/250\n",
            "13/13 [==============================] - 0s 2ms/step - loss: 24.1831\n",
            "Epoch 92/250\n",
            "13/13 [==============================] - 0s 2ms/step - loss: 26.2658\n",
            "Epoch 93/250\n",
            "13/13 [==============================] - 0s 2ms/step - loss: 22.3243\n",
            "Epoch 94/250\n",
            "13/13 [==============================] - 0s 2ms/step - loss: 21.2613\n",
            "Epoch 95/250\n",
            "13/13 [==============================] - 0s 2ms/step - loss: 21.2358\n",
            "Epoch 96/250\n",
            "13/13 [==============================] - 0s 2ms/step - loss: 20.8834\n",
            "Epoch 97/250\n",
            "13/13 [==============================] - 0s 1ms/step - loss: 20.2062\n",
            "Epoch 98/250\n",
            "13/13 [==============================] - 0s 1ms/step - loss: 19.6446\n",
            "Epoch 99/250\n",
            "13/13 [==============================] - 0s 2ms/step - loss: 21.3726\n",
            "Epoch 100/250\n",
            "13/13 [==============================] - 0s 2ms/step - loss: 19.7431\n"
          ]
        },
        {
          "name": "stdout",
          "output_type": "stream",
          "text": [
            "Epoch 101/250\n",
            "13/13 [==============================] - 0s 1ms/step - loss: 20.0394\n",
            "Epoch 102/250\n",
            "13/13 [==============================] - 0s 2ms/step - loss: 19.3504\n",
            "Epoch 103/250\n",
            "13/13 [==============================] - 0s 1ms/step - loss: 19.6588\n",
            "Epoch 104/250\n",
            "13/13 [==============================] - 0s 1ms/step - loss: 19.9647\n",
            "Epoch 105/250\n",
            "13/13 [==============================] - 0s 1ms/step - loss: 19.2974\n",
            "Epoch 106/250\n",
            "13/13 [==============================] - 0s 1ms/step - loss: 20.4463\n",
            "Epoch 107/250\n",
            "13/13 [==============================] - 0s 1ms/step - loss: 20.0299\n",
            "Epoch 108/250\n",
            "13/13 [==============================] - 0s 1ms/step - loss: 18.3870\n",
            "Epoch 109/250\n",
            "13/13 [==============================] - 0s 1ms/step - loss: 18.2798\n",
            "Epoch 110/250\n",
            "13/13 [==============================] - 0s 1ms/step - loss: 18.1642\n",
            "Epoch 111/250\n",
            "13/13 [==============================] - 0s 1ms/step - loss: 18.1984\n",
            "Epoch 112/250\n",
            "13/13 [==============================] - 0s 1ms/step - loss: 18.9999\n",
            "Epoch 113/250\n",
            "13/13 [==============================] - 0s 1ms/step - loss: 18.8038\n",
            "Epoch 114/250\n",
            "13/13 [==============================] - 0s 1ms/step - loss: 17.8322\n",
            "Epoch 115/250\n",
            "13/13 [==============================] - 0s 1ms/step - loss: 17.3996\n",
            "Epoch 116/250\n",
            "13/13 [==============================] - 0s 1ms/step - loss: 19.1079\n",
            "Epoch 117/250\n",
            "13/13 [==============================] - 0s 1ms/step - loss: 17.7411\n",
            "Epoch 118/250\n",
            "13/13 [==============================] - 0s 1ms/step - loss: 18.9300\n",
            "Epoch 119/250\n",
            "13/13 [==============================] - 0s 1ms/step - loss: 17.3268\n",
            "Epoch 120/250\n",
            "13/13 [==============================] - 0s 1ms/step - loss: 16.7195\n",
            "Epoch 121/250\n",
            "13/13 [==============================] - 0s 1ms/step - loss: 16.3021\n",
            "Epoch 122/250\n",
            "13/13 [==============================] - 0s 1ms/step - loss: 16.4649\n",
            "Epoch 123/250\n",
            "13/13 [==============================] - 0s 1ms/step - loss: 18.7051\n",
            "Epoch 124/250\n",
            "13/13 [==============================] - 0s 1ms/step - loss: 17.6171\n",
            "Epoch 125/250\n",
            "13/13 [==============================] - 0s 1ms/step - loss: 17.2726\n",
            "Epoch 126/250\n",
            "13/13 [==============================] - 0s 1ms/step - loss: 17.5199\n",
            "Epoch 127/250\n",
            "13/13 [==============================] - 0s 1ms/step - loss: 18.8609\n",
            "Epoch 128/250\n",
            "13/13 [==============================] - 0s 1ms/step - loss: 17.4393\n",
            "Epoch 129/250\n",
            "13/13 [==============================] - 0s 1ms/step - loss: 17.3762\n",
            "Epoch 130/250\n",
            "13/13 [==============================] - 0s 1ms/step - loss: 16.3705\n",
            "Epoch 131/250\n",
            "13/13 [==============================] - 0s 1ms/step - loss: 16.5818\n",
            "Epoch 132/250\n",
            "13/13 [==============================] - 0s 1ms/step - loss: 19.4518\n",
            "Epoch 133/250\n",
            "13/13 [==============================] - 0s 1ms/step - loss: 16.0993\n",
            "Epoch 134/250\n",
            "13/13 [==============================] - 0s 1ms/step - loss: 16.7717\n",
            "Epoch 135/250\n",
            "13/13 [==============================] - 0s 1ms/step - loss: 18.0242\n",
            "Epoch 136/250\n",
            "13/13 [==============================] - 0s 2ms/step - loss: 16.2323\n",
            "Epoch 137/250\n",
            "13/13 [==============================] - 0s 1ms/step - loss: 17.0762\n",
            "Epoch 138/250\n",
            "13/13 [==============================] - 0s 1ms/step - loss: 15.7348\n",
            "Epoch 139/250\n",
            "13/13 [==============================] - 0s 1ms/step - loss: 15.2986\n",
            "Epoch 140/250\n",
            "13/13 [==============================] - 0s 1ms/step - loss: 16.8213\n",
            "Epoch 141/250\n",
            "13/13 [==============================] - 0s 3ms/step - loss: 16.7129\n",
            "Epoch 142/250\n",
            "13/13 [==============================] - 0s 1ms/step - loss: 15.2179\n",
            "Epoch 143/250\n",
            "13/13 [==============================] - 0s 1ms/step - loss: 15.2192\n",
            "Epoch 144/250\n",
            "13/13 [==============================] - 0s 1ms/step - loss: 15.1619\n",
            "Epoch 145/250\n",
            "13/13 [==============================] - 0s 1ms/step - loss: 15.6902\n",
            "Epoch 146/250\n",
            "13/13 [==============================] - 0s 1ms/step - loss: 14.8336\n",
            "Epoch 147/250\n",
            "13/13 [==============================] - 0s 2ms/step - loss: 16.4227\n",
            "Epoch 148/250\n",
            "13/13 [==============================] - 0s 2ms/step - loss: 15.8955\n",
            "Epoch 149/250\n",
            "13/13 [==============================] - 0s 1ms/step - loss: 15.3290\n",
            "Epoch 150/250\n",
            "13/13 [==============================] - 0s 1ms/step - loss: 16.2728\n",
            "Epoch 151/250\n",
            "13/13 [==============================] - 0s 1ms/step - loss: 16.1727\n",
            "Epoch 152/250\n",
            "13/13 [==============================] - 0s 1ms/step - loss: 14.8849\n",
            "Epoch 153/250\n",
            "13/13 [==============================] - 0s 1ms/step - loss: 16.7021\n",
            "Epoch 154/250\n",
            "13/13 [==============================] - 0s 1ms/step - loss: 16.1938\n",
            "Epoch 155/250\n",
            "13/13 [==============================] - 0s 1ms/step - loss: 15.6105\n",
            "Epoch 156/250\n",
            "13/13 [==============================] - 0s 1ms/step - loss: 14.7110\n",
            "Epoch 157/250\n",
            "13/13 [==============================] - 0s 1ms/step - loss: 15.6049\n",
            "Epoch 158/250\n",
            "13/13 [==============================] - 0s 1ms/step - loss: 14.6300\n",
            "Epoch 159/250\n",
            "13/13 [==============================] - 0s 1ms/step - loss: 17.1496\n",
            "Epoch 160/250\n",
            "13/13 [==============================] - 0s 1ms/step - loss: 14.2606\n",
            "Epoch 161/250\n",
            "13/13 [==============================] - 0s 1ms/step - loss: 13.5046\n",
            "Epoch 162/250\n",
            "13/13 [==============================] - 0s 1ms/step - loss: 14.4730\n",
            "Epoch 163/250\n",
            "13/13 [==============================] - 0s 1ms/step - loss: 15.3278\n",
            "Epoch 164/250\n",
            "13/13 [==============================] - 0s 1ms/step - loss: 16.0080\n",
            "Epoch 165/250\n",
            "13/13 [==============================] - 0s 1ms/step - loss: 15.8613\n",
            "Epoch 166/250\n",
            "13/13 [==============================] - 0s 1ms/step - loss: 17.4320\n",
            "Epoch 167/250\n",
            "13/13 [==============================] - 0s 1ms/step - loss: 14.4981\n",
            "Epoch 168/250\n",
            "13/13 [==============================] - 0s 1ms/step - loss: 15.0012\n",
            "Epoch 169/250\n",
            "13/13 [==============================] - 0s 1ms/step - loss: 14.2924\n",
            "Epoch 170/250\n",
            "13/13 [==============================] - 0s 1ms/step - loss: 14.6259\n",
            "Epoch 171/250\n",
            "13/13 [==============================] - 0s 1ms/step - loss: 13.9550\n",
            "Epoch 172/250\n",
            "13/13 [==============================] - 0s 1ms/step - loss: 14.0481\n",
            "Epoch 173/250\n",
            "13/13 [==============================] - 0s 1ms/step - loss: 12.8281\n",
            "Epoch 174/250\n",
            "13/13 [==============================] - 0s 1ms/step - loss: 12.7245\n",
            "Epoch 175/250\n",
            "13/13 [==============================] - 0s 1ms/step - loss: 12.9969\n",
            "Epoch 176/250\n",
            "13/13 [==============================] - 0s 1ms/step - loss: 13.4194\n",
            "Epoch 177/250\n",
            "13/13 [==============================] - 0s 1ms/step - loss: 13.5951\n",
            "Epoch 178/250\n",
            "13/13 [==============================] - 0s 2ms/step - loss: 12.5962\n",
            "Epoch 179/250\n",
            "13/13 [==============================] - 0s 1ms/step - loss: 13.4798\n",
            "Epoch 180/250\n",
            "13/13 [==============================] - 0s 2ms/step - loss: 13.7823\n",
            "Epoch 181/250\n",
            "13/13 [==============================] - 0s 1ms/step - loss: 12.7341\n",
            "Epoch 182/250\n",
            "13/13 [==============================] - 0s 1ms/step - loss: 14.8308\n",
            "Epoch 183/250\n",
            "13/13 [==============================] - 0s 1ms/step - loss: 14.4627\n",
            "Epoch 184/250\n",
            "13/13 [==============================] - 0s 1ms/step - loss: 13.3375\n",
            "Epoch 185/250\n",
            "13/13 [==============================] - 0s 1ms/step - loss: 14.0853\n",
            "Epoch 186/250\n",
            "13/13 [==============================] - 0s 1ms/step - loss: 13.3639\n",
            "Epoch 187/250\n",
            "13/13 [==============================] - 0s 1ms/step - loss: 12.6779\n",
            "Epoch 188/250\n",
            "13/13 [==============================] - 0s 1ms/step - loss: 14.4162\n",
            "Epoch 189/250\n",
            "13/13 [==============================] - 0s 1ms/step - loss: 14.5345\n",
            "Epoch 190/250\n",
            "13/13 [==============================] - 0s 1ms/step - loss: 12.8433\n",
            "Epoch 191/250\n",
            "13/13 [==============================] - 0s 1ms/step - loss: 12.3945\n",
            "Epoch 192/250\n",
            "13/13 [==============================] - 0s 1ms/step - loss: 13.2753\n",
            "Epoch 193/250\n",
            "13/13 [==============================] - 0s 1ms/step - loss: 17.0759\n",
            "Epoch 194/250\n",
            "13/13 [==============================] - 0s 1ms/step - loss: 18.6822\n",
            "Epoch 195/250\n",
            "13/13 [==============================] - 0s 1ms/step - loss: 15.3305\n",
            "Epoch 196/250\n",
            "13/13 [==============================] - 0s 1ms/step - loss: 12.3573\n",
            "Epoch 197/250\n",
            "13/13 [==============================] - 0s 1ms/step - loss: 13.6885\n",
            "Epoch 198/250\n",
            "13/13 [==============================] - 0s 1ms/step - loss: 13.3015\n",
            "Epoch 199/250\n"
          ]
        },
        {
          "name": "stdout",
          "output_type": "stream",
          "text": [
            "13/13 [==============================] - 0s 1ms/step - loss: 11.9840\n",
            "Epoch 200/250\n",
            "13/13 [==============================] - 0s 1ms/step - loss: 13.4118\n",
            "Epoch 201/250\n",
            "13/13 [==============================] - 0s 1ms/step - loss: 16.9286\n",
            "Epoch 202/250\n",
            "13/13 [==============================] - 0s 1ms/step - loss: 20.5953\n",
            "Epoch 203/250\n",
            "13/13 [==============================] - 0s 1ms/step - loss: 18.2937\n",
            "Epoch 204/250\n",
            "13/13 [==============================] - 0s 1ms/step - loss: 13.2959\n",
            "Epoch 205/250\n",
            "13/13 [==============================] - 0s 1ms/step - loss: 12.2025\n",
            "Epoch 206/250\n",
            "13/13 [==============================] - 0s 1ms/step - loss: 12.3165\n",
            "Epoch 207/250\n",
            "13/13 [==============================] - 0s 1ms/step - loss: 11.2907\n",
            "Epoch 208/250\n",
            "13/13 [==============================] - 0s 1ms/step - loss: 15.4554\n",
            "Epoch 209/250\n",
            "13/13 [==============================] - 0s 1ms/step - loss: 19.2747\n",
            "Epoch 210/250\n",
            "13/13 [==============================] - 0s 1ms/step - loss: 19.7788\n",
            "Epoch 211/250\n",
            "13/13 [==============================] - 0s 1ms/step - loss: 12.6036\n",
            "Epoch 212/250\n",
            "13/13 [==============================] - 0s 1ms/step - loss: 12.0048\n",
            "Epoch 213/250\n",
            "13/13 [==============================] - 0s 1ms/step - loss: 11.5041\n",
            "Epoch 214/250\n",
            "13/13 [==============================] - 0s 1ms/step - loss: 14.1562\n",
            "Epoch 215/250\n",
            "13/13 [==============================] - 0s 1ms/step - loss: 16.6312\n",
            "Epoch 216/250\n",
            "13/13 [==============================] - 0s 1ms/step - loss: 15.0482\n",
            "Epoch 217/250\n",
            "13/13 [==============================] - 0s 1ms/step - loss: 12.4638\n",
            "Epoch 218/250\n",
            "13/13 [==============================] - 0s 2ms/step - loss: 11.2451\n",
            "Epoch 219/250\n",
            "13/13 [==============================] - 0s 1ms/step - loss: 10.9072\n",
            "Epoch 220/250\n",
            "13/13 [==============================] - 0s 1ms/step - loss: 11.1512\n",
            "Epoch 221/250\n",
            "13/13 [==============================] - 0s 1ms/step - loss: 11.5625\n",
            "Epoch 222/250\n",
            "13/13 [==============================] - 0s 1ms/step - loss: 11.0115\n",
            "Epoch 223/250\n",
            "13/13 [==============================] - 0s 1ms/step - loss: 16.0914\n",
            "Epoch 224/250\n",
            "13/13 [==============================] - 0s 1ms/step - loss: 11.4300\n",
            "Epoch 225/250\n",
            "13/13 [==============================] - 0s 1ms/step - loss: 13.1157\n",
            "Epoch 226/250\n",
            "13/13 [==============================] - 0s 1ms/step - loss: 16.7209\n",
            "Epoch 227/250\n",
            "13/13 [==============================] - 0s 1ms/step - loss: 14.2677\n",
            "Epoch 228/250\n",
            "13/13 [==============================] - 0s 1ms/step - loss: 13.7186\n",
            "Epoch 229/250\n",
            "13/13 [==============================] - 0s 1ms/step - loss: 12.2256\n",
            "Epoch 230/250\n",
            "13/13 [==============================] - 0s 1ms/step - loss: 13.3539\n",
            "Epoch 231/250\n",
            "13/13 [==============================] - 0s 1ms/step - loss: 13.0590\n",
            "Epoch 232/250\n",
            "13/13 [==============================] - 0s 1ms/step - loss: 12.3905\n",
            "Epoch 233/250\n",
            "13/13 [==============================] - 0s 1ms/step - loss: 11.2552\n",
            "Epoch 234/250\n",
            "13/13 [==============================] - 0s 1ms/step - loss: 10.9537\n",
            "Epoch 235/250\n",
            "13/13 [==============================] - 0s 1ms/step - loss: 11.1900\n",
            "Epoch 236/250\n",
            "13/13 [==============================] - 0s 1ms/step - loss: 10.5249\n",
            "Epoch 237/250\n",
            "13/13 [==============================] - 0s 1ms/step - loss: 11.2646\n",
            "Epoch 238/250\n",
            "13/13 [==============================] - 0s 1ms/step - loss: 10.4915\n",
            "Epoch 239/250\n",
            "13/13 [==============================] - 0s 1ms/step - loss: 10.5565\n",
            "Epoch 240/250\n",
            "13/13 [==============================] - 0s 1ms/step - loss: 10.7142\n",
            "Epoch 241/250\n",
            "13/13 [==============================] - 0s 1ms/step - loss: 11.2003\n",
            "Epoch 242/250\n",
            "13/13 [==============================] - 0s 1ms/step - loss: 10.2780\n",
            "Epoch 243/250\n",
            "13/13 [==============================] - 0s 1ms/step - loss: 10.8740\n",
            "Epoch 244/250\n",
            "13/13 [==============================] - 0s 1ms/step - loss: 10.2286\n",
            "Epoch 245/250\n",
            "13/13 [==============================] - 0s 1ms/step - loss: 11.2144\n",
            "Epoch 246/250\n",
            "13/13 [==============================] - 0s 1ms/step - loss: 10.9805\n",
            "Epoch 247/250\n",
            "13/13 [==============================] - 0s 1ms/step - loss: 10.8748\n",
            "Epoch 248/250\n",
            "13/13 [==============================] - 0s 1ms/step - loss: 10.6976\n",
            "Epoch 249/250\n",
            "13/13 [==============================] - 0s 1ms/step - loss: 11.1738\n",
            "Epoch 250/250\n",
            "13/13 [==============================] - 0s 1ms/step - loss: 11.0957\n"
          ]
        }
      ],
      "source": [
        "#model training\n",
        "history = model.fit(x_train,y_train,epochs=250)"
      ]
    },
    {
      "cell_type": "markdown",
      "id": "6566d0dc",
      "metadata": {
        "id": "6566d0dc"
      },
      "source": [
        "## Evaluating model using r2 score "
      ]
    },
    {
      "cell_type": "code",
      "execution_count": null,
      "id": "d8cc6b0a",
      "metadata": {
        "id": "d8cc6b0a"
      },
      "outputs": [],
      "source": [
        "predictions = model.predict(x_test)"
      ]
    },
    {
      "cell_type": "code",
      "execution_count": null,
      "id": "a7ef3e3e",
      "metadata": {
        "id": "a7ef3e3e",
        "outputId": "fc0819f8-2f7b-40f1-849e-d9afd861ab88"
      },
      "outputs": [
        {
          "data": {
            "text/plain": [
              "0.7199943210922853"
            ]
          },
          "execution_count": 37,
          "metadata": {},
          "output_type": "execute_result"
        }
      ],
      "source": [
        "score = r2_score(y_test,predictions.reshape(1,-1)[0])\n",
        "score"
      ]
    },
    {
      "cell_type": "code",
      "execution_count": null,
      "id": "83798d76",
      "metadata": {
        "id": "83798d76",
        "outputId": "2b3c39b3-6011-433a-ef37-01a15a6f8e43"
      },
      "outputs": [
        {
          "data": {
            "text/plain": [
              "(array([[46.048653]], dtype=float32), 48.5)"
            ]
          },
          "execution_count": 51,
          "metadata": {},
          "output_type": "execute_result"
        }
      ],
      "source": [
        "pred = model.predict(x_test[30].reshape(1,-1))\n",
        "\n",
        "pred,y_test[30]"
      ]
    },
    {
      "cell_type": "markdown",
      "id": "4524db57",
      "metadata": {
        "id": "4524db57"
      },
      "source": [
        "### Actual"
      ]
    },
    {
      "cell_type": "code",
      "execution_count": null,
      "id": "3488741d",
      "metadata": {
        "id": "3488741d",
        "outputId": "fdb36721-a63e-4315-a690-25b756f8f586"
      },
      "outputs": [
        {
          "data": {
            "text/html": [
              "<div>\n",
              "<style scoped>\n",
              "    .dataframe tbody tr th:only-of-type {\n",
              "        vertical-align: middle;\n",
              "    }\n",
              "\n",
              "    .dataframe tbody tr th {\n",
              "        vertical-align: top;\n",
              "    }\n",
              "\n",
              "    .dataframe thead th {\n",
              "        text-align: right;\n",
              "    }\n",
              "</style>\n",
              "<table border=\"1\" class=\"dataframe\">\n",
              "  <thead>\n",
              "    <tr style=\"text-align: right;\">\n",
              "      <th></th>\n",
              "      <th>CRIM</th>\n",
              "      <th>ZN</th>\n",
              "      <th>INDUS</th>\n",
              "      <th>CHAS</th>\n",
              "      <th>NOX</th>\n",
              "      <th>RM</th>\n",
              "      <th>AGE</th>\n",
              "      <th>DIS</th>\n",
              "      <th>RAD</th>\n",
              "      <th>TAX</th>\n",
              "      <th>PTRATIO</th>\n",
              "      <th>B</th>\n",
              "      <th>LSTAT</th>\n",
              "      <th>PRICE</th>\n",
              "    </tr>\n",
              "  </thead>\n",
              "  <tbody>\n",
              "    <tr>\n",
              "      <th>0</th>\n",
              "      <td>0.0351</td>\n",
              "      <td>95.0</td>\n",
              "      <td>2.68</td>\n",
              "      <td>0.0</td>\n",
              "      <td>0.4161</td>\n",
              "      <td>7.853</td>\n",
              "      <td>33.2</td>\n",
              "      <td>5.118</td>\n",
              "      <td>4.0</td>\n",
              "      <td>224.0</td>\n",
              "      <td>14.7</td>\n",
              "      <td>392.78</td>\n",
              "      <td>3.81</td>\n",
              "      <td>48.5</td>\n",
              "    </tr>\n",
              "  </tbody>\n",
              "</table>\n",
              "</div>"
            ],
            "text/plain": [
              "     CRIM    ZN  INDUS  CHAS     NOX     RM   AGE    DIS  RAD    TAX  PTRATIO  \\\n",
              "0  0.0351  95.0   2.68   0.0  0.4161  7.853  33.2  5.118  4.0  224.0     14.7   \n",
              "\n",
              "        B  LSTAT  PRICE  \n",
              "0  392.78   3.81   48.5  "
            ]
          },
          "execution_count": 55,
          "metadata": {},
          "output_type": "execute_result"
        }
      ],
      "source": [
        "raw_test = pd.DataFrame(x_test[30].reshape(1,-1),columns=boston_housing.feature_names)\n",
        "raw_test.insert(loc=13,column='PRICE',value=y_test[30].reshape(1,-1))\n",
        "raw_test"
      ]
    },
    {
      "cell_type": "markdown",
      "id": "f6a95e0f",
      "metadata": {
        "id": "f6a95e0f"
      },
      "source": [
        "## Predicted"
      ]
    },
    {
      "cell_type": "code",
      "execution_count": null,
      "id": "1953344b",
      "metadata": {
        "id": "1953344b",
        "outputId": "b773d295-acc2-4838-c6a8-87c162cfef05"
      },
      "outputs": [
        {
          "data": {
            "text/html": [
              "<div>\n",
              "<style scoped>\n",
              "    .dataframe tbody tr th:only-of-type {\n",
              "        vertical-align: middle;\n",
              "    }\n",
              "\n",
              "    .dataframe tbody tr th {\n",
              "        vertical-align: top;\n",
              "    }\n",
              "\n",
              "    .dataframe thead th {\n",
              "        text-align: right;\n",
              "    }\n",
              "</style>\n",
              "<table border=\"1\" class=\"dataframe\">\n",
              "  <thead>\n",
              "    <tr style=\"text-align: right;\">\n",
              "      <th></th>\n",
              "      <th>CRIM</th>\n",
              "      <th>ZN</th>\n",
              "      <th>INDUS</th>\n",
              "      <th>CHAS</th>\n",
              "      <th>NOX</th>\n",
              "      <th>RM</th>\n",
              "      <th>AGE</th>\n",
              "      <th>DIS</th>\n",
              "      <th>RAD</th>\n",
              "      <th>TAX</th>\n",
              "      <th>PTRATIO</th>\n",
              "      <th>B</th>\n",
              "      <th>LSTAT</th>\n",
              "      <th>PRICE</th>\n",
              "    </tr>\n",
              "  </thead>\n",
              "  <tbody>\n",
              "    <tr>\n",
              "      <th>0</th>\n",
              "      <td>0.0351</td>\n",
              "      <td>95.0</td>\n",
              "      <td>2.68</td>\n",
              "      <td>0.0</td>\n",
              "      <td>0.4161</td>\n",
              "      <td>7.853</td>\n",
              "      <td>33.2</td>\n",
              "      <td>5.118</td>\n",
              "      <td>4.0</td>\n",
              "      <td>224.0</td>\n",
              "      <td>14.7</td>\n",
              "      <td>392.78</td>\n",
              "      <td>3.81</td>\n",
              "      <td>46.048653</td>\n",
              "    </tr>\n",
              "  </tbody>\n",
              "</table>\n",
              "</div>"
            ],
            "text/plain": [
              "     CRIM    ZN  INDUS  CHAS     NOX     RM   AGE    DIS  RAD    TAX  PTRATIO  \\\n",
              "0  0.0351  95.0   2.68   0.0  0.4161  7.853  33.2  5.118  4.0  224.0     14.7   \n",
              "\n",
              "        B  LSTAT      PRICE  \n",
              "0  392.78   3.81  46.048653  "
            ]
          },
          "execution_count": 56,
          "metadata": {},
          "output_type": "execute_result"
        }
      ],
      "source": [
        "pred_test = pd.DataFrame(x_test[30].reshape(1,-1),columns=boston_housing.feature_names)\n",
        "pred_test.insert(loc=13,column='PRICE',value=pred[0])\n",
        "pred_test"
      ]
    },
    {
      "cell_type": "code",
      "execution_count": null,
      "id": "3d5f3f7b",
      "metadata": {
        "id": "3d5f3f7b"
      },
      "outputs": [],
      "source": [
        ""
      ]
    }
  ],
  "metadata": {
    "kernelspec": {
      "display_name": "Python 3 (ipykernel)",
      "language": "python",
      "name": "python3"
    },
    "language_info": {
      "codemirror_mode": {
        "name": "ipython",
        "version": 3
      },
      "file_extension": ".py",
      "mimetype": "text/x-python",
      "name": "python",
      "nbconvert_exporter": "python",
      "pygments_lexer": "ipython3",
      "version": "3.9.7"
    },
    "colab": {
      "name": "Housing.ipynb",
      "provenance": [],
      "include_colab_link": true
    }
  },
  "nbformat": 4,
  "nbformat_minor": 5
}